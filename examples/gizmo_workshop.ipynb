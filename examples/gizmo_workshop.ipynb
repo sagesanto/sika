{
 "cells": [
  {
   "cell_type": "code",
   "execution_count": null,
   "id": "f3997617",
   "metadata": {},
   "outputs": [],
   "source": [
    "from dataclasses import dataclass\n",
    "from sika import Product, Provider, IntermediateTask"
   ]
  },
  {
   "cell_type": "code",
   "execution_count": null,
   "id": "6cee115d",
   "metadata": {},
   "outputs": [],
   "source": [
    "def read_blueprint(*args):\n",
    "    return \"...\", \"Archimedes\"\n",
    "\n",
    "@dataclass(kw_only=True)\n",
    "class Blueprint(Product):\n",
    "    schema: str\n",
    "    \n",
    "class BlueprintReader(Provider[Blueprint]):\n",
    "    @property\n",
    "    def provided_parameters(self):\n",
    "        return {\"gizmo_name\": []}\n",
    "    \n",
    "    def _call(self,parameters) -> Blueprint:\n",
    "        gizmo_name = parameters[\"gizmo_name\"]\n",
    "        blueprint_loc = self.config['blueprint_location']\n",
    "\n",
    "        schema, author = read_blueprint(gizmo_name,blueprint_loc)  # fictional function\n",
    "        \n",
    "        return Blueprint(\n",
    "                    schema=schema,\n",
    "                    parameters=parameters,  #  we don't have to store the params used to make it, but it can be useful\n",
    "                    metadata={\"blueprint_author\":author}  # tack on extra information about this product\n",
    "                )\n"
   ]
  },
  {
   "cell_type": "code",
   "execution_count": null,
   "id": "a1920c1b",
   "metadata": {},
   "outputs": [],
   "source": [
    "from sika.config import Config\n",
    "\n",
    "config = Config(\"workshop_config.toml\")\n",
    "\n",
    "reader = BlueprintReader(config=config)\n",
    "reader({\"gizmo_name\":\"archimedian screw\"})"
   ]
  },
  {
   "cell_type": "code",
   "execution_count": null,
   "id": "b14f9ffa",
   "metadata": {},
   "outputs": [],
   "source": [
    "def parse_schema(schema):\n",
    "    return []\n",
    "\n",
    "def get_materials(*args, **kwargs):\n",
    "    return \"2C\", (\"wood\",4,\"silver\",\"matte\") \n",
    "\n",
    "@dataclass(kw_only=True)\n",
    "class Parts(Product):\n",
    "    frame: str\n",
    "    n_screws: int\n",
    "    wire: str\n",
    "    paint: str\n",
    "    \n",
    "class PartFetcher(Provider[Parts], IntermediateTask[Provider[Blueprint]]):\n",
    "    @property\n",
    "    def provided_parameters(self):\n",
    "        return {\n",
    "                \"wire_material\": [\"silver\",\"copper\",\"steel\"],\n",
    "            }\n",
    "    \n",
    "    def _call(self, parameters) -> Parts:\n",
    "        wire_material = parameters[\"wire_material\"]\n",
    "\n",
    "        blueprint = self.prev(parameters) # call the previous task\n",
    "\n",
    "        materials_list = parse_schema(blueprint.schema)\n",
    "        parts_shelf, (frame, n_screws, wire, paint) = get_materials(materials_list, wire_material=wire_material)\n",
    "\n",
    "        return Parts(\n",
    "            frame=frame, n_screws=n_screws, wire=wire, paint=paint,\n",
    "            metadata={\"blueprint\":blueprint, \"parts_shelf\": parts_shelf},\n",
    "            parameters={\"wire_material\":wire_material}\n",
    "        )"
   ]
  },
  {
   "cell_type": "code",
   "execution_count": null,
   "id": "0a2bf094",
   "metadata": {},
   "outputs": [],
   "source": [
    "reader = BlueprintReader()\n",
    "fetcher = PartFetcher(prev=BlueprintReader())\n",
    "fetcher.configure(config=config, logger=None) \n",
    "\n",
    "fetcher({\"gizmo_name\":\"archimedian screw\",\"wire_material\":\"silver\"})"
   ]
  }
 ],
 "metadata": {
  "kernelspec": {
   "display_name": ".venv",
   "language": "python",
   "name": "python3"
  },
  "language_info": {
   "codemirror_mode": {
    "name": "ipython",
    "version": 3
   },
   "file_extension": ".py",
   "mimetype": "text/x-python",
   "name": "python",
   "nbconvert_exporter": "python",
   "pygments_lexer": "ipython3",
   "version": "3.11.5"
  }
 },
 "nbformat": 4,
 "nbformat_minor": 5
}
